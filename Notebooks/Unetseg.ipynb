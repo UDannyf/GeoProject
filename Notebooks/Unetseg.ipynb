{
 "cells": [
  {
   "cell_type": "code",
   "execution_count": 3,
   "id": "88354c9d",
   "metadata": {},
   "outputs": [],
   "source": [
    "imgpath = \"Mosaicos/bosqueed.tif\"\n",
    "import rasterio\n",
    "import rasterio.env\n",
    "from rasterio.features import shapes\n",
    "import fiona\n",
    "mask = None\n",
    "with rasterio.Env():\n",
    "    with rasterio.open(imgpath) as src:\n",
    "        image = src.read()\n",
    "\n",
    "    results = (\n",
    "    {'properties': {'raster_val': v}, 'geometry': s}\n",
    "    for i, (s, v)\n",
    "    in enumerate(\n",
    "    shapes(image, mask=mask, transform=src.transform)))\n",
    "\n",
    "    with fiona.open(\n",
    "    'Poligonos/ndvi_shapefile.shp', 'w',\n",
    "    driver='Shapefile',\n",
    "    crs=src.crs,\n",
    "    schema={'properties': [('raster_val', 'int')],\n",
    "    'geometry': 'Polygon'}) as dst:\n",
    "        dst.writerecords(results)\n"
   ]
  }
 ],
 "metadata": {
  "kernelspec": {
   "display_name": "Python 3 (ipykernel)",
   "language": "python",
   "name": "python3"
  },
  "language_info": {
   "codemirror_mode": {
    "name": "ipython",
    "version": 3
   },
   "file_extension": ".py",
   "mimetype": "text/x-python",
   "name": "python",
   "nbconvert_exporter": "python",
   "pygments_lexer": "ipython3",
   "version": "3.9.7"
  }
 },
 "nbformat": 4,
 "nbformat_minor": 5
}
